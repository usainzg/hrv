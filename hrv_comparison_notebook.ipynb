{
 "cells": [
  {
   "cell_type": "markdown",
   "metadata": {},
   "source": [
    "# HRV Comparison Analysis\n",
    "This notebook compares two methods of recording HRV values with trend analysis including:\n",
    "- Daily HRV values\n",
    "- 7-day rolling baseline\n",
    "- 60-day normal baseline\n",
    "- Statistical comparison"
   ]
  },
  {
   "cell_type": "code",
   "execution_count": null,
   "metadata": {},
   "outputs": [],
   "source": [
    "# Import libraries\n",
    "import pandas as pd\n",
    "import numpy as np\n",
    "import matplotlib.pyplot as plt\n",
    "import seaborn as sns\n",
    "from scipy import stats\n",
    "import warnings\n",
    "warnings.filterwarnings('ignore')\n",
    "\n",
    "# Set style\n",
    "sns.set_style(\"whitegrid\")\n",
    "plt.rcParams['figure.figsize'] = (15, 8)\n",
    "\n",
    "print(\"Libraries imported successfully!\")"
   ]
  },
  {
   "cell_type": "code",
   "execution_count": null,
   "metadata": {},
   "outputs": [],
   "source": [
    "# Load data\n",
    "filepath = 'hrv_data.csv'  # Update with your file path\n",
    "\n",
    "df = pd.read_csv(filepath)\n",
    "df['date'] = pd.to_datetime(df['date'])\n",
    "df = df.sort_values('date').reset_index(drop=True)\n",
    "\n",
    "print(f\"✓ Loaded {len(df)} days of data\")\n",
    "print(f\"✓ Date range: {df['date'].min().date()} to {df['date'].max().date()}\")\n",
    "print(f\"\\nFirst few rows:\")\n",
    "df.head()"
   ]
  },
  {
   "cell_type": "code",
   "execution_count": null,
   "metadata": {},
   "outputs": [],
   "source": [
    "# Calculate rolling baselines\n",
    "df['method1_7d'] = df['method1'].rolling(window=7, min_periods=1).mean()\n",
    "df['method2_7d'] = df['method2'].rolling(window=7, min_periods=1).mean()\n",
    "df['method1_60d'] = df['method1'].rolling(window=60, min_periods=1).mean()\n",
    "df['method2_60d'] = df['method2'].rolling(window=60, min_periods=1).mean()\n",
    "\n",
    "print(\"✓ Calculated 7-day and 60-day rolling baselines\")\n",
    "df.head(10)"
   ]
  },
  {
   "cell_type": "code",
   "execution_count": null,
   "metadata": {},
   "outputs": [],
   "source": [
    "# Calculate statistics\n",
    "correlation = df[['method1', 'method2']].corr().iloc[0, 1]\n",
    "mean_values = (df['method1'] + df['method2']) / 2\n",
    "diff_values = df['method1'] - df['method2']\n",
    "mean_diff = diff_values.mean()\n",
    "std_diff = diff_values.std()\n",
    "loa_lower = mean_diff - 1.96 * std_diff\n",
    "loa_upper = mean_diff + 1.96 * std_diff\n",
    "\n",
    "print(\"=\"*60)\n",
    "print(\"SUMMARY STATISTICS\")\n",
    "print(\"=\"*60)\n",
    "print(f\"\\nMethod 1: {df['method1'].mean():.2f} ± {df['method1'].std():.2f} ms\")\n",
    "print(f\"Method 2: {df['method2'].mean():.2f} ± {df['method2'].std():.2f} ms\")\n",
    "print(f\"\\nCorrelation: {correlation:.4f}\")\n",
    "print(f\"Mean Difference: {mean_diff:.2f} ms\")\n",
    "print(f\"Limits of Agreement: [{loa_lower:.2f}, {loa_upper:.2f}]\")\n",
    "\n",
    "# Paired t-test\n",
    "t_stat, p_value = stats.ttest_rel(df['method1'].dropna(), df['method2'].dropna())\n",
    "print(f\"\\nPaired t-test: t={t_stat:.4f}, p={p_value:.4f}\")\n",
    "print(\"=\"*60)"
   ]
  },
  {
   "cell_type": "code",
   "execution_count": null,
   "metadata": {},
   "outputs": [],
   "source": [
    "# Plot 1: Daily HRV Values\n",
    "fig, ax = plt.subplots(figsize=(16, 6))\n",
    "ax.plot(df['date'], df['method1'], marker='o', label='Method 1', \n",
    "        linewidth=2, markersize=5, alpha=0.7)\n",
    "ax.plot(df['date'], df['method2'], marker='s', label='Method 2', \n",
    "        linewidth=2, markersize=5, alpha=0.7)\n",
    "ax.set_xlabel('Date', fontsize=13)\n",
    "ax.set_ylabel('HRV (ms)', fontsize=13)\n",
    "ax.set_title('Daily HRV Values - Method Comparison', fontsize=16, fontweight='bold')\n",
    "ax.legend(loc='best', fontsize=12)\n",
    "ax.grid(True, alpha=0.3)\n",
    "plt.xticks(rotation=45)\n",
    "plt.tight_layout()\n",
    "plt.show()"
   ]
  },
  {
   "cell_type": "code",
   "execution_count": null,
   "metadata": {},
   "outputs": [],
   "source": [
    "# Plot 2: 7-Day Rolling Baseline\n",
    "fig, ax = plt.subplots(figsize=(16, 6))\n",
    "ax.plot(df['date'], df['method1_7d'], label='Method 1 (7-day)', \n",
    "        linewidth=3, alpha=0.8)\n",
    "ax.plot(df['date'], df['method2_7d'], label='Method 2 (7-day)', \n",
    "        linewidth=3, alpha=0.8)\n",
    "ax.set_xlabel('Date', fontsize=13)\n",
    "ax.set_ylabel('HRV (ms)', fontsize=13)\n",
    "ax.set_title('7-Day Rolling Baseline Comparison', fontsize=16, fontweight='bold')\n",
    "ax.legend(loc='best', fontsize=12)\n",
    "ax.grid(True, alpha=0.3)\n",
    "plt.xticks(rotation=45)\n",
    "plt.tight_layout()\n",
    "plt.show()"
   ]
  },
  {
   "cell_type": "code",
   "execution_count": null,
   "metadata": {},
   "outputs": [],
   "source": [
    "# Plot 3: 60-Day Normal Baseline\n",
    "fig, ax = plt.subplots(figsize=(16, 6))\n",
    "ax.plot(df['date'], df['method1_60d'], label='Method 1 (60-day)', \n",
    "        linewidth=3.5, alpha=0.85)\n",
    "ax.plot(df['date'], df['method2_60d'], label='Method 2 (60-day)', \n",
    "        linewidth=3.5, alpha=0.85)\n",
    "ax.set_xlabel('Date', fontsize=13)\n",
    "ax.set_ylabel('HRV (ms)', fontsize=13)\n",
    "ax.set_title('60-Day Normal Baseline Comparison', fontsize=16, fontweight='bold')\n",
    "ax.legend(loc='best', fontsize=12)\n",
    "ax.grid(True, alpha=0.3)\n",
    "plt.xticks(rotation=45)\n",
    "plt.tight_layout()\n",
    "plt.show()"
   ]
  },
  {
   "cell_type": "code",
   "execution_count": null,
   "metadata": {},
   "outputs": [],
   "source": [
    "# Plot 4: All Trends for Method 1\n",
    "fig, (ax1, ax2) = plt.subplots(1, 2, figsize=(18, 6))\n",
    "\n",
    "# Method 1 trends\n",
    "ax1.plot(df['date'], df['method1'], 'o-', label='Daily', \n",
    "         alpha=0.4, markersize=4, linewidth=1)\n",
    "ax1.plot(df['date'], df['method1_7d'], label='7-day baseline', \n",
    "         linewidth=2.5, alpha=0.85)\n",
    "ax1.plot(df['date'], df['method1_60d'], label='60-day baseline', \n",
    "         linewidth=3, alpha=0.9)\n",
    "ax1.set_xlabel('Date', fontsize=12)\n",
    "ax1.set_ylabel('HRV (ms)', fontsize=12)\n",
    "ax1.set_title('Method 1 - All Trends', fontsize=14, fontweight='bold')\n",
    "ax1.legend(loc='best', fontsize=11)\n",
    "ax1.grid(True, alpha=0.3)\n",
    "ax1.tick_params(axis='x', rotation=45)\n",
    "\n",
    "# Method 2 trends\n",
    "ax2.plot(df['date'], df['method2'], 's-', label='Daily', \n",
    "         alpha=0.4, markersize=4, linewidth=1)\n",
    "ax2.plot(df['date'], df['method2_7d'], label='7-day baseline', \n",
    "         linewidth=2.5, alpha=0.85)\n",
    "ax2.plot(df['date'], df['method2_60d'], label='60-day baseline', \n",
    "         linewidth=3, alpha=0.9)\n",
    "ax2.set_xlabel('Date', fontsize=12)\n",
    "ax2.set_ylabel('HRV (ms)', fontsize=12)\n",
    "ax2.set_title('Method 2 - All Trends', fontsize=14, fontweight='bold')\n",
    "ax2.legend(loc='best', fontsize=11)\n",
    "ax2.grid(True, alpha=0.3)\n",
    "ax2.tick_params(axis='x', rotation=45)\n",
    "\n",
    "plt.tight_layout()\n",
    "plt.show()"
   ]
  },
  {
   "cell_type": "code",
   "execution_count": null,
   "metadata": {},
   "outputs": [],
   "source": [
    "# Plot 5: Correlation and Bland-Altman\n",
    "fig, (ax1, ax2) = plt.subplots(1, 2, figsize=(16, 6))\n",
    "\n",
    "# Scatter plot with correlation\n",
    "ax1.scatter(df['method1'], df['method2'], alpha=0.6, s=60)\n",
    "z = np.polyfit(df['method1'].dropna(), df['method2'].dropna(), 1)\n",
    "p = np.poly1d(z)\n",
    "x_line = np.linspace(df['method1'].min(), df['method1'].max(), 100)\n",
    "ax1.plot(x_line, p(x_line), \"r--\", linewidth=2, label='Regression line')\n",
    "min_val = min(df['method1'].min(), df['method2'].min())\n",
    "max_val = max(df['method1'].max(), df['method2'].max())\n",
    "ax1.plot([min_val, max_val], [min_val, max_val], 'k--', \n",
    "         linewidth=1.5, alpha=0.5, label='Identity line')\n",
    "ax1.set_xlabel('Method 1 HRV (ms)', fontsize=12)\n",
    "ax1.set_ylabel('Method 2 HRV (ms)', fontsize=12)\n",
    "ax1.set_title(f'Correlation Plot (r = {correlation:.3f})', fontsize=14, fontweight='bold')\n",
    "ax1.legend(loc='best')\n",
    "ax1.grid(True, alpha=0.3)\n",
    "\n",
    "# Bland-Altman plot\n",
    "ax2.scatter(mean_values, diff_values, alpha=0.6, s=60)\n",
    "ax2.axhline(mean_diff, color='red', linestyle='-', linewidth=2, \n",
    "            label=f'Mean diff: {mean_diff:.2f}')\n",
    "ax2.axhline(loa_lower, color='red', linestyle='--', linewidth=1.5, \n",
    "            label=f'Lower LoA: {loa_lower:.2f}')\n",
    "ax2.axhline(loa_upper, color='red', linestyle='--', linewidth=1.5, \n",
    "            label=f'Upper LoA: {loa_upper:.2f}')\n",
    "ax2.axhline(0, color='black', linestyle='-', linewidth=0.5, alpha=0.5)\n",
    "ax2.set_xlabel('Mean of Methods (ms)', fontsize=12)\n",
    "ax2.set_ylabel('Difference (Method 1 - Method 2) (ms)', fontsize=12)\n",
    "ax2.set_title('Bland-Altman Plot', fontsize=14, fontweight='bold')\n",
    "ax2.legend(loc='best', fontsize=10)\n",
    "ax2.grid(True, alpha=0.3)\n",
    "\n",
    "plt.tight_layout()\n",
    "plt.show()"
   ]
  },
  {
   "cell_type": "code",
   "execution_count": null,
   "metadata": {},
   "outputs": [],
   "source": [
    "# Save processed data\n",
    "output_file = 'hrv_comparison_processed.csv'\n",
    "df.to_csv(output_file, index=False)\n",
    "print(f\"✓ Processed data saved to '{output_file}'\")"
   ]
  }
 ],
 "metadata": {
  "kernelspec": {
   "display_name": "Python 3",
   "language": "python",
   "name": "python3"
  },
  "language_info": {
   "codemirror_mode": {
    "name": "ipython",
    "version": 3
   },
   "file_extension": ".py",
   "mimetype": "text/x-python",
   "name": "python",
   "nbconvert_exporter": "python",
   "pygments_lexer": "ipython3",
   "version": "3.8.0"
  }
 },
 "nbformat": 4,
 "nbformat_minor": 4
}